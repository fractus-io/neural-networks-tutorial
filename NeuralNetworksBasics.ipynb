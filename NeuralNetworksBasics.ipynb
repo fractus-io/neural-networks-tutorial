{
 "cells": [
  {
   "cell_type": "code",
   "execution_count": null,
   "metadata": {},
   "outputs": [],
   "source": []
  },
  {
   "cell_type": "markdown",
   "metadata": {},
   "source": [
    "# Table of Content\n",
    "\n",
    "[Neural Networks](#NeuralNetworks)\n",
    "\n",
    "* [Introduction](#Introduction)\n",
    "\t* [History](#History)\n",
    "\t* [Perceptrons](#Datasets)\n",
    "\n",
    "\n",
    "\n",
    "\n",
    "\n",
    "# <a id=\"NeuralNetworks\"></a>Neural Networks\n",
    "\n",
    "## <a id=\"Introduction\"></a>Introduction\n",
    "\n",
    "Many tasks that involves intelligence, pattern recognition, object classifications or detection are difficult\n",
    "to implement using classical software engineering approaches, despite the fact those tasks can easily be performed by animals or children. \n",
    "\n",
    "For example, family cat can easily recognize you, versus a stranger?\n",
    "Small child can easily recognize who is dad, and who is mom.\n",
    "\n",
    "Human brain can perform complex pattern recognition tasks without even noticing, so how brain can do that ?\n",
    "\n",
    "\n",
    "### <a id=\"BiologicalNeurons\"></a>Biological Neurons\n",
    "\n",
    "\n",
    "The answer lies in internal structure of the brain, which is biological neural networks, connected to our nervous systems. Neural Network is composed of a large number of interconnected neurons (nerve cells).\n",
    "\n",
    "One brain has approximately 10 billion neurons, each connected to about 10,000\n",
    "other neurons. The cell body of the neuron is called the ***soma***, where the inputs (dendrites) and\n",
    "outputs (axons) connects soma to other soma.\n",
    "\n",
    "Each neuron receives electrochemical inputs from other neurons at their ***dendrites***. If these\n",
    "electrical inputs are powerful enough to activate neuron, then the activated neuron transmits\n",
    "the signal along its ***axon***, passing it along to the ***dendrites*** of other neurons. These attached neurons\n",
    "may also fire, thus continuing the process of passing the message along.\n",
    "\n",
    "Firing a neuron  is a binary operation, the neuron either\n",
    "fires or it doesn’t fire. There are no different ***grades*** of firing. Neuron will fire only \n",
    "if the total signal received at the ***soma*** exceeds a given threshold.\n",
    "\n",
    "![Image](course/assets/image/biological-neurons.png)\n",
    "\n",
    "***Dendrite***: Receives signals from other neurons   \n",
    "***Soma***: Processes the information   \n",
    "***Axon***: Transmits the output of this neuron   \n",
    "***Synapse***: Point of connection to other neurons   \n",
    "\n",
    "So, is it possible to simulate neural network from nature ?\n",
    "\n",
    "If we simulate brain structure then we should implement computation system composed of the connected nodes, \n",
    "where on each node simple computation will be executed. Such a structure can be implemented using graph structure, which consist of the set of nodes (i.e., vertices's) and a set of connections (i.e., edges) that are link together.\n",
    "\n",
    "Each node performs a simple computation. Each connection carries a signal (i.e., the\n",
    "output of the computation) from one node to another, labeled by a weight indicating the extent to\n",
    "which the signal is amplified or diminished. Some connections have large, positive weights that\n",
    "amplify the signal, indicating that the signal is very important when making a classification. \n",
    "Others have negative weights, diminishing the strength of the signal, thus specifying that the output of\n",
    "the node is less important in the final classification. \n",
    "\n",
    "Initially connection weights are initialized with random values and are modified during execution of the learning algorithm.\n",
    "\n",
    "Such a system which implements a capabilities of the biological neural networks, and it is able to perfom tasks such a pattern recognition, object classifications or detection is Artificial Neural Network.\n",
    "\n",
    "\n",
    "### <a id=\"ArtificialNeuralNetwork\"></a>Artificial Neural Network\n",
    "\n",
    "In 1943 ***Warren S. McCulloch***, a neuroscientist, and ***Walter Pitts***, a logician, published a paper ***A logical calculus of the ideas immanent in nervous activity***. In this paper McCulloch and Pitts tried to understand how brain could produce highly complex patterns by using many basic cells that are connected together. These basic brain cells are called neurons, and McCulloch and Pitts gave a highly simplified model of a neuron in their paper. \n",
    "Proposed model is beginning of the ***Artificial Neural Networks***.\n",
    "\n",
    "\n",
    "![Image](course/assets/image/McCullochPittsNeuron.png)\n",
    "\n",
    "\n",
    "After this paper other authors proposed improvements on the ***Artificial Neural Network***, for example a ***Perceptron model*** inveneted by ***Rosenblatt*** at 1958 and then from 1969, ***Multilayer Perceptron (MLP)*** invented by ***Minsky*** and ***Papert***, etc.\n",
    "\n",
    "\n",
    "#### <a id=\"ArtificialNeuralNetwork\"></a>Artificial Neurons\n",
    "\n",
    "The key element of the Artificial Neural Network is Artificial Neuron which simulates Biological Neuron.\n",
    "\n",
    "It contains a nucleus(processing unit), several dendrites(analogous to inputs), and one axon (analogous to output), \n",
    "as shown in the following figure:\n",
    "\n",
    "\n",
    "![Image](course/assets/image/artificial-neuron.jpg)\n",
    "\n",
    "As we can see in figure our Artificial Neuron has various inputs(plus bias) and each input has randomly assigned weights.\n",
    "The role of neuron is to multiply inputs with weights, sumarize the result of the multiplication, and then to pass sum through activation function. The result of the Activation Function is 0 or 1, so we can say that Activation Function 'fires' a particular neuron or not.\n",
    "\n",
    "\n",
    "\n",
    "\n",
    "##### <a id=\"ActivationFunction\"></a>Activation Function\n",
    "\n",
    "The activation function is a mathematical “gate” between the input feeding the current neuron and its output going to the next neuron. It can be as simple as a step function that turns the neuron output on and off(depending on a rule or threshold), or it can be advanced function, like non-linear fucntion which can help a network to learn complex patterns.\n",
    "\n",
    "There is a lot of activation functions, and we will cover most common. \n",
    "\n",
    "###### Activation Function Types \n",
    "\n",
    "###### Step Function\n",
    "\n",
    "A binary step function is a threshold-based activation function. If the input value is above or below a certain threshold, the neuron is activated and sends exactly the same signal to the next layer.\n",
    "\n",
    "The function has form:   \n",
    "\n",
    "$\n",
    "\\begin{split}\n",
    "\\operatorname{f}(x) =\n",
    "\\begin{cases}\n",
    "0 & \\text{if }x < 0\\\\\n",
    "1 & \\text{if }x \\ge 0\n",
    "\\end{cases}\n",
    "\\end{split}\n",
    "$\n"
   ]
  },
  {
   "cell_type": "code",
   "execution_count": 2,
   "metadata": {},
   "outputs": [
    {
     "data": {
      "text/plain": [
       "<Figure size 640x480 with 1 Axes>"
      ]
     },
     "metadata": {},
     "output_type": "display_data"
    }
   ],
   "source": [
    "import numpy as np\n",
    "import matplotlib.pylab as plt\n",
    "\n",
    "\n",
    "def step(x):\n",
    "    return np.array(x > 0, dtype=np.int)\n",
    "\n",
    "x = np.arange(-5.0, 5.0, 0.1)\n",
    "y_step = step(x)\n",
    "\n",
    "plt.grid(True)\n",
    "plt.plot(x, y_step, label='Step', color='r')\n",
    "plt.legend()\n",
    "plt.show()"
   ]
  },
  {
   "cell_type": "markdown",
   "metadata": {},
   "source": [
    "The problem with a step function is that it does not allow multi-value outputs, for example, it cannot support classifying the inputs into one of several categories.\n",
    "\n",
    "\n",
    "###### Linear Function\n",
    "\n",
    "A linear activation function takes the form:   \n",
    "\n",
    "$ f(x) = wx + b $\n",
    "\n",
    "Linear function is better than a step function because it allows multiple outputs, not just 1 and 0.\n"
   ]
  },
  {
   "cell_type": "code",
   "execution_count": 6,
   "metadata": {},
   "outputs": [
    {
     "data": {
      "text/plain": [
       "<matplotlib.legend.Legend at 0x1e3065f5ac8>"
      ]
     },
     "execution_count": 6,
     "metadata": {},
     "output_type": "execute_result"
    },
    {
     "data": {
      "image/png": "[encoded data removed]",
      "text/plain": [
       "<Figure size 432x288 with 1 Axes>"
      ]
     },
     "metadata": {
      "needs_background": "light"
     },
     "output_type": "display_data"
    }
   ],
   "source": [
    "def linear(x):\n",
    "    w = 0.5\n",
    "    b = 1\n",
    "    return w*x + b\n",
    "\n",
    "x = np.linspace(-5, 5, 100)\n",
    "y = linear(x)\n",
    "\n",
    "plt.grid(True)\n",
    "plt.xlabel('x')\n",
    "plt.ylabel('y')\n",
    "plt.plot(x, y, label='Linear', color='r')\n",
    "plt.legend()\n"
   ]
  },
  {
   "cell_type": "markdown",
   "metadata": {},
   "source": [
    "Neural networks should be able to compute any function. This concept is called ***Universal approximation theorem***. In practice it was shown that if we have more then one neurons in our network, and if every neuron has linear activation functions, then the combination of these functions is again another linear activation function.\n",
    "\n",
    "Problem is that linear functions cannot approximate any function, so we need another type of the function in order to implement ***Universal approximation theorem***, and that type of function is non-linear activation function.\n"
   ]
  },
  {
   "cell_type": "markdown",
   "metadata": {},
   "source": [
    "###### Non-Linear Activation Functions\n",
    "\n",
    "With non-linear activation functions we are able to model complex mapping, which is essential for learning and modeling complex data, such as images, video, audio, and data sets which are non-linear or have lot of dimensions.\n",
    "\n",
    "So, let's se  what are the most common non-linear activaction functions:\n",
    "\n",
    "###### Sigmoid Function\n",
    "\n",
    "It is a function which is plotted as ***S*** shaped graph. \n",
    "Sigmoid function has following form:   \n",
    "\n",
    "$\n",
    "\\ f(x) = \\sigma(x) = \\dfrac{1}{1 + \\exp(-x)}\n",
    "$\n",
    "\n"
   ]
  },
  {
   "cell_type": "code",
   "execution_count": 7,
   "metadata": {},
   "outputs": [
    {
     "data": {
      "image/png": "[encoded data removed]",
      "text/plain": [
       "<Figure size 432x288 with 1 Axes>"
      ]
     },
     "metadata": {
      "needs_background": "light"
     },
     "output_type": "display_data"
    }
   ],
   "source": [
    "def sigmoid(x):\n",
    "    return 1 / (1 + np.exp(-x))\n",
    "\n",
    "x = np.arange(-5.0, 5.0, 0.1)\n",
    "y = sigmoid(x)\n",
    "\n",
    "plt.grid(True)\n",
    "plt.xlabel('x')\n",
    "plt.ylabel('y')\n",
    "plt.plot(x, y, label='Sigmoid', color='r')\n",
    "plt.legend()\n",
    "plt.show()"
   ]
  },
  {
   "cell_type": "markdown",
   "metadata": {},
   "source": [
    "The main reason why we use sigmoid function is because it exists between 0 to 1. \n",
    "Therefore, it is especially usefull for models where we have to predict the probability as an output.\n",
    "Since probability of anything, exists only between the range of 0 and 1, sigmoid is the right choice for such a situations.\n",
    "\n",
    "\n",
    "######  Tanh or hyperbolic tangent Function\n",
    "\n",
    "tanh is similar to sigmoid(***S*** - shaped), but the range of the tanh function is from (-1 to 1).  \n",
    "tanh function has following form:   \n",
    "\n",
    "$\n",
    "\\ f(x) = \\tanh(x) = \\dfrac{1 - \\exp(-x)}{1 + \\exp(-x)}\n",
    "$\n"
   ]
  },
  {
   "cell_type": "code",
   "execution_count": 10,
   "metadata": {},
   "outputs": [
    {
     "data": {
      "image/png": "[encoded data removed]",
      "text/plain": [
       "<Figure size 432x288 with 1 Axes>"
      ]
     },
     "metadata": {
      "needs_background": "light"
     },
     "output_type": "display_data"
    }
   ],
   "source": [
    "def tanh(x):\n",
    "    return (1 - np.exp(-x)) / (1 + np.exp(-x))\n",
    "\n",
    "x = np.arange(-5.0, 5.0, 0.1)\n",
    "y = tanh(x)\n",
    "\n",
    "plt.grid(True)\n",
    "plt.xlabel('x')\n",
    "plt.ylabel('y')\n",
    "plt.plot(x, y, label='Tanh', color='r')\n",
    "plt.legend()\n",
    "plt.show()\n"
   ]
  },
  {
   "cell_type": "markdown",
   "metadata": {},
   "source": [
    "\n",
    "\n",
    "The tanh function is mainly used for classification between two classes.\n"
   ]
  },
  {
   "cell_type": "markdown",
   "metadata": {},
   "source": [
    "######  ReLU (Rectified Linear Unit) \n",
    "\n",
    "ReLU is half rectified (from bottom). Function is zero when x is less than zero and is equal to x when x is above or equal to zero. ReLU activation function has following form:   \n",
    "\n",
    "$\n",
    "\\begin{split}\n",
    "\\operatorname{f}(x) =\n",
    "\\begin{cases}\n",
    "0 & \\text{for }x < 0\\\\\n",
    "x & \\text{for }x \\ge 0\n",
    "\\end{cases}\n",
    "\\end{split}\n",
    "$\n"
   ]
  },
  {
   "cell_type": "code",
   "execution_count": 9,
   "metadata": {},
   "outputs": [
    {
     "data": {
      "image/png": "[encoded data removed]",
      "text/plain": [
       "<Figure size 432x288 with 1 Axes>"
      ]
     },
     "metadata": {
      "needs_background": "light"
     },
     "output_type": "display_data"
    }
   ],
   "source": [
    "def relu(x):\n",
    "    return np.maximum(0, x)\n",
    "\n",
    "x = np.arange(-5.0, 5.0, 0.1)\n",
    "y = relu(x)\n",
    "\n",
    "plt.grid(True)\n",
    "plt.xlabel('x')\n",
    "plt.ylabel('y')\n",
    "plt.plot(x, y, label='ReLU', color='r')\n",
    "\n",
    "plt.legend()\n",
    "plt.show()"
   ]
  },
  {
   "cell_type": "markdown",
   "metadata": {},
   "source": [
    "ReLU activation function is heavily used in Convolutional Neural Networks, which are defacto a standard neural networks for computer vision problems.\n",
    "\n",
    "\n",
    "So, in this paragraph, we mentioned most common activation functions, and the decision which function to use, depends of the concrete use case where we will apply our artificial neuron/network."
   ]
  },
  {
   "cell_type": "markdown",
   "metadata": {},
   "source": [
    "\n",
    "\n",
    "##### <a id=\"InputsWeights\"></a>Inputs Weights(Parameters)\n",
    "\n",
    "As we already mentioned, artificial neuron has various inputs(plus bias) and each input has randomly assigned weights.\n",
    "Weight represent the connections between neurons and have the capability to amplify or attenuate neuron signals.\n",
    "\n",
    "By modifying signals, weights have the power to influence a neuron's output, therefore a neuron's activation will be dependent on the inputs and the weights. \n",
    "\n",
    "\n",
    "##### <a id=\"BiasParameter\"></a>Bias Parameter\n",
    "\n",
    "\n",
    "The artificial neuron can have an independent component that adds an extra signal to the activation function. This component is called bias parameter.\n",
    "\n",
    "Bias is an extra input to neuron which always has value 1, and has it’s own connection weight. This makes sure that even when all the inputs are none (all 0’s), neuron will be activated 'fired'.\n",
    "\n",
    "\n",
    "#### <a id=\"Layers\"></a>Layers\n",
    "\n",
    "Now we understand what neuron is, and how it works, and if we connect one neuron with another neurons, that will form neural network. Neurons will be connected on a way where output of one neuron is input to another neuron. This approach will give us huge amount of possible ways how to connect neurons or in another words, how to organize neural network. \n",
    "\n",
    "We can connect one layer to another and that will form neural network. \n",
    "\n",
    "![Image](course/assets/image/neural-network-layers.jpg)\n",
    "\n",
    "\n",
    "As you can see in above figure we have 3 types of the neural layers:\n",
    "\n",
    "* ***Input Layer***   \n",
    "     is the first layer in the neural network, it takes input signals(values) and passes them on to the next layer. \n",
    "     It doesn’t apply any operations on the input signals(values) & has no weights and biases values associated.   \n",
    "     \n",
    "* ***Hidden Layer***   \n",
    "     hidden layer is a collection of neurons stacked vertically. All the neurons in a hidden layer are connected to each and every neuron in the next layer. Last hidden layer passes on values to the output layer.   \n",
    "     \n",
    "* ***Output Layer***   \n",
    "    is the last layer in the network and it receives input from the last hidden layer.   \n",
    "    \n",
    "    \n",
    "    \n",
    "\n",
    "Layers can be connected together.\n",
    "\n",
    "If neural network is composed of several linked layers, such a network is calleed multilayer neural network. \n",
    "\n",
    "As we can see, neurons are organized in layers, and layers can be connected on a various ways. So, the way how neural network is defined/organized is called neural network architecture.\n",
    "\n",
    "\n",
    "#### <a id=\"NeuralNetworkArchitectures\"></a>Neural Network Architectures\n",
    "\n",
    "Architectures for neural networks are defined based on the neuron connections, and signal flow. Therefore we can split neural networks based on neuron connections and signal flow.\n",
    "\n",
    "* ***Neuron connections***\n",
    "\n",
    "    * ***Monolayer networks***   \n",
    "        all neurons are laid out in the same level, forming one single layer\n",
    "\n",
    "    * ***Multilayer networks***   \n",
    "        neurons are divided into multiple layers, each layer corresponding to a parallel layout of neurons that shares the same input data\n",
    "\n",
    "\n",
    "* ***Signal flow***\n",
    "\n",
    "    * **Feeedforward networks**   \n",
    "        the information flow is unidirectional. input signals are fed into the input layer, then, after being processed, they are forwarded to the next layer. Feedback loop does not exists.\n",
    "\n",
    "    * ***Feedback networks***   \n",
    "        signals are fed back in a neuron or layer that has already received and processed that signal.\n",
    "\n",
    "\n",
    "![Image](course/assets/image/neural-network-layers.jpg)\n",
    "\n",
    "**Figure** Multilayer Feedforward Neural Network\n",
    "\n",
    "\n",
    "![Image](course/assets/image/feedback-multi-layer-neural-network.jpg)\n",
    "\n",
    "**Figure** Multilayer Feedback Neural Network\n",
    "\n",
    "### <a id=\"NeuralNetworkLearning\"></a>Neural Network Learning\n",
    "\n",
    "Until now we learned what neuron is, how it works, and how we can build neural network by connecting neurons and organizing them in a layers. But how neural network is able to learn ?\n",
    "\n",
    "First let's discuss what learning process is. \n",
    "\n",
    "There are two ways how humans can learn, one way is to learn from observations without any support. Another way is to have a teacher who teach us a knowledge which we should learn.   \n",
    "First aproach is called ***unsupervised*** learning and second is called ***supervised*** learnng. Same learning approachs can be aplied to Artficial Neural Networks.\n",
    "\n",
    "\n",
    "#### Supervised learning\n",
    "\n",
    "Imagine that we have training dataset which consist of the input variables (X) and an output variables (Y). Our goal is to find function which approximates inputs to the outputs, so when new input data(X) arrives, our function will be able to predict the output variable(Y).\n",
    "\n",
    "|Input 1 |Input 2 | Output |\n",
    "|--------|--------|--------|\n",
    "|   150  |  50    |   0    |\n",
    "|   155  |  74    |   1    |\n",
    "|   160  |  85    |   1    |\n",
    "|   165  |  85    |   1    |\n",
    "|   170  |  60    |   0    |\n",
    "|   175  |  100   |   0    |\n",
    "|   180  |  78    |   0    |\n",
    "|   185  |  105   |   1    |\n",
    "|   190  |  120   |   1    |\n",
    "|   195  |  100   |   ?    |\n",
    "\n",
    "\n",
    "$$ Y = f(X) $$\n",
    "\n"
   ]
  },
  {
   "cell_type": "code",
   "execution_count": 41,
   "metadata": {},
   "outputs": [
    {
     "data": {
      "image/png": "[encoded data removed]",
      "text/plain": [
       "<Figure size 432x288 with 1 Axes>"
      ]
     },
     "metadata": {
      "needs_background": "light"
     },
     "output_type": "display_data"
    },
    {
     "data": {
      "image/png": "[encoded data removed]",
      "text/plain": [
       "<Figure size 432x288 with 1 Axes>"
      ]
     },
     "metadata": {
      "needs_background": "light"
     },
     "output_type": "display_data"
    }
   ],
   "source": [
    "\n",
    "x = [150, 155, 160, 165, 170, 175, 180, 185, 190]\n",
    "y = [50, 74, 85, 85, 60, 100, 78, 105, 120]\n",
    "\n",
    "plt.title(\"Y = f(X) ?\")\n",
    "plt.plot(x, y, 'ro')\n",
    "plt.xlabel('Input 1')\n",
    "plt.ylabel('Input 2')\n",
    "plt.show()\n",
    "\n",
    "plt.title(\"AND\")\n",
    "plt.plot([0, 0, 1], [0, 1, 0], 'ro', )\n",
    "plt.plot([1], [1], 'bo', )\n",
    "plt.plot([0.1, 0.9], [1, 0], label='Linear', color='r')\n",
    "plt.xlabel('X')\n",
    "plt.ylabel('Y')\n",
    "plt.show()"
   ]
  },
  {
   "cell_type": "markdown",
   "metadata": {},
   "source": [
    "\n",
    "This type of learning is called ***supervised learning*** because algorithm builds an approximation function from existing dataset, so the process is similar to the process when a teacher supervising the learning process.\n",
    "\n",
    "Since we know the correct answers(outputs), the algorithm iteratively makes predictions on the training data and approximation function is corrected during each iteration. Learning stops when the algorithm achieves an acceptable accuracy of the approximation function.\n",
    "\n",
    "Supervised learning can be used for regression (output variable is a real value, such as “dollars” or “weight”)  and classification problems(output variable is a category, such as “spam” or “no spam”).\n",
    "\n",
    "Note: collection of the input variables together with output variables is called ***training dataset***.\n",
    "\n",
    "#### Unsupervised learning\n",
    "\n",
    "Unsupervised learning is when we only have input data (X) and no corresponding output variables.\n",
    "\n",
    "The goal is to model the underlying structure or distribution in the data in order to learn more about the data.\n",
    "\n",
    "This approach is called unsupervised learning because unlike supervised learning, there is no correct answers and there is no teacher. Algorithms are left to their own to discover and present the interesting structure in the data.\n",
    "\n",
    "Unsupervised learning is usefull for clustering (grouping customers by purchasing behavior) and association problems (discover rules that describes, such as people that buy X also tend to buy Y).\n",
    " \n",
    "\n",
    "#### Learning Algorithm\n",
    "\n",
    "The goal of the neural network is to approximate input variables to output variables, or in another words to find function which does needed approximation, so when new inputs is given to neural network, output can be predicted.\n",
    "\n",
    "Imagine that we have training dataset(two inputs, one output, ten rows), we have idea how our neural networ will look like, let's say one neuron, but how we will find a function which does approximation or in another words how neural network learns ?\n",
    "\n",
    "Earlier we said that randomly generated weights will be assigned to neuron's inputs. So, we have training dataset with two inputs, one output, ten rows and randomly generated weight values which are assigned to inputs.  \n",
    "\n",
    "But how we can be sure that weight values which are randomly generated will exactly approximate training dataset ?\n",
    "\n",
    "In order to solve this problem we are using learning algorithm. \n",
    "\n",
    "Our goal is to have input weights values which approximate training dataset, so it is obvious that if randomly generated weights are not approximating training dataset, that we need to change weights as long as we do not find weights values which will correctly approximate training dataset.\n",
    "\n",
    "In other words, we want to find optimal weights ***W*** that drive loss function to lowest possible value and that is a goal of the learning algorithm.\n",
    "\n",
    "General idea how learning algorithm should work is:   \n",
    " 1.) define neural network\n",
    " 2.) initialize weights\n",
    " 3.) feed neural network with training dataset\n",
    " 4.) compare output of the network with expected output(error)\n",
    " 5.) if error exists, change a weights and repeat the steps 3, 4, & 5 again\n",
    "\n",
    "When we start with randomly generated weights, we are maikng a ***guess***.\n",
    "\n",
    "$$ guess = input * weight $$\n",
    "\n",
    "The neural network takes its guess and compares it to the expected output which is a ground-truth about the data, effectively asking: “Did I get this right?”\n",
    "\n",
    "$$ error = ground truth - guess $$\n",
    "\n",
    "The difference between the network’s guess and the ground truth is error. The calculation of the error is done by ***loss function***. A loss function quantifies how well our outputs agrees with expected outputs.\n",
    "The higher level of agreement is, the loss is lower.\n",
    "\n",
    "Goal is to minimize the loss function.\n",
    "\n",
    "Loss function calculates the error, and if error exists, learning algorithm adjusts the weights values and repeat the process again. \n",
    "\n",
    "$$ error * weights contribution to error = adjustment $$\n",
    "\n",
    "What is stil not clear is how loss function calculates the error, how amount which will be used for updating weights values will be defined and when all process will be stoped.\n",
    "\n",
    "...\n",
    "\n",
    "\n",
    "So, we can conclude that neural network is in fact corrective feedback loop, rewarding weights that support its correct guesses, and punishing weights that lead it to error.\n",
    "\n",
    "Now let's see how one of the very first learning algorithm, the Perceptron algorithm is implemented.\n",
    "\n",
    "\n",
    "### Perceptrons\n",
    "\n",
    "\n",
    "The ***perceptron algorithm*** was introduced by ***Frank Rosenblatt*** in 1958, and refined by **Minsky** and ***Papert*** (1969).\n",
    "\n",
    "Perceptron algortihm is a neural network with one neuron which has one layer, therefore it is called Single Layer Perceptron.\n",
    "\n",
    "A Perceptron is a feed-forward network based on a threshold activation function and can only classify(binary classifier) linearly separable cases where output is a binary target (1, 0).\n",
    "\n",
    "![Image](course/assets/image/single-layer-perceptron.png)\n",
    "\n",
    "#### Algorithm\t\n",
    "\n",
    "The Perceptron does not have a priori knowledge, so the initial weights are assigned randomly. the algortihm sums all the weighted inputs and if the sum is above the threshold (some predetermined value), neuron is said to be activated (output=1). \t\n",
    "\n",
    "\n",
    "![Image](course/assets/image/slp-algorithm.png)\n",
    "\n",
    "The input values are presented to the perceptron, and if the predicted output is the same as the desired output, then the performance is considered satisfactory and no changes to the weights are made. However, if the output does not match the desired output, then the weights need to be changed to reduce the error. \n",
    "\n",
    "\n",
    "![Image](course/assets/image/slp-weights-update.png)\n"
   ]
  },
  {
   "cell_type": "markdown",
   "metadata": {
    "collapsed": true
   },
   "source": [
    "Once we understand Perceptron algorithm, let's implement Perceptron class in Python:"
   ]
  },
  {
   "cell_type": "code",
   "execution_count": 15,
   "metadata": {},
   "outputs": [],
   "source": [
    "import numpy as np\n",
    "\n",
    "class Perceptron:\n",
    "    \n",
    "    def __init__(self, number_of_inputs, learning_rate=0.1):\n",
    "        \n",
    "        np.random.seed(7)\n",
    "        # initialize the weight matrix\n",
    "        self.W = np.random.randn(number_of_inputs + 1) / np.sqrt(number_of_inputs)\n",
    "        # store learning rate\n",
    "        self.learning_rate = learning_rate\n",
    "        \n",
    "    # activation function    \n",
    "    def step(self, x):\n",
    "        return 1 if x > 0 else 0\n",
    "        \n",
    "    def fit(self, X, y, epochs=10 ):\n",
    "        \n",
    "        # extend inputs with bias(column of 1's)\n",
    "        X = np.c_[X, np.ones(X.shape[0])]\n",
    "        \n",
    "        # start training\n",
    "        for epoch in np.arange(0, epochs):\n",
    "            # loop over each input data\n",
    "            for (x, target) in zip(X, y):\n",
    "                \n",
    "                # calculate prediction:\n",
    "                # take dot product of the inputs and the weights and than\n",
    "                # pass sum of the dot product through the step function \n",
    "                prediction = self.step(np.dot(x, self.W))\n",
    "                \n",
    "                # update weights, if prediction is not same as expected target value\n",
    "                if prediction != target:\n",
    "                    # calculate error which is difference between calculated(prediction) and\n",
    "                    # expected values(target)\n",
    "                    error = prediction - target\n",
    "                    \n",
    "                    # update the weight matrix with delta rule\n",
    "                    self.W += -self.learning_rate * error * x\n",
    "                    \n",
    "    def predict(self, X):\n",
    "        \n",
    "        # extend inputs with bias(column of 1's)\n",
    "        X = np.c_[X, np.ones((X.shape[0]))]\n",
    "\n",
    "        # take dot product of the inputs and the weights and than\n",
    "        # pass sum of the dot product through the step function \n",
    "        return self.step(np.dot(X, self.W))\n",
    "        "
   ]
  },
  {
   "cell_type": "markdown",
   "metadata": {},
   "source": [
    "\n",
    "As you can see, following functionality has been implemented:\n",
    "\n",
    "* ***init function***  \n",
    "    randomly initializes weights, and keeps basic hyperparameters like ***learning_rate***\n",
    "    \n",
    "* ***step function***  \n",
    "    implements simple step based activation function   \n",
    "    \n",
    "* ***fit function***  \n",
    "    is a place where training is done, method loops over the defined number of epochs, calculates sum between weights and input values, applies step function on that sum, and updates the weights using delta rule\n",
    "    \n",
    "* ***predict function***   \n",
    "    calculates the output based on inputs and trained weights\n",
    "\n",
    "Now our algorithm is ready for evaluation.\n",
    "\n",
    "\n",
    "#### Evaluating Perceptron Algorithm \n",
    "\n",
    "Let's test Perceptron against AND function:"
   ]
  },
  {
   "cell_type": "code",
   "execution_count": 16,
   "metadata": {},
   "outputs": [
    {
     "name": "stdout",
     "output_type": "stream",
     "text": [
      "[INFO] input-data=[0 0], expected-value=0, predicted-value=0\n",
      "[INFO] input-data=[0 1], expected-value=0, predicted-value=0\n",
      "[INFO] input-data=[1 0], expected-value=0, predicted-value=0\n",
      "[INFO] input-data=[1 1], expected-value=1, predicted-value=1\n"
     ]
    }
   ],
   "source": [
    "# define AND dataset\n",
    "X = np.array([[0, 0], [0, 1], [1, 0], [1, 1]])\n",
    "y = np.array([[0], [0], [0], [1]])\n",
    "       \n",
    "# instantiate perceptron object\n",
    "p = Perceptron(X.shape[1], learning_rate=0.1)\n",
    "\n",
    "# train the perceptron\n",
    "p.fit(X, y, epochs=20)\n",
    "\n",
    "# loop over input data\n",
    "for (x, target) in zip(X, y):\n",
    "    \n",
    "    # predict\n",
    "    pred = p.predict(np.atleast_2d(x))\n",
    "    # print the results\n",
    "    print(\"[INFO] input-data={}, expected-value={}, predicted-value={}\".format(x, target[0], pred))\n"
   ]
  },
  {
   "cell_type": "code",
   "execution_count": 43,
   "metadata": {},
   "outputs": [
    {
     "data": {
      "image/png": "[encoded data removed]",
      "text/plain": [
       "<Figure size 432x288 with 1 Axes>"
      ]
     },
     "metadata": {
      "needs_background": "light"
     },
     "output_type": "display_data"
    }
   ],
   "source": [
    "plt.title(\"AND\")\n",
    "plt.plot([0, 0, 1], [0, 1, 0], 'ro', )\n",
    "plt.plot([1], [1], 'bo', )\n",
    "plt.plot([0.1, 0.9], [1, 0], label='Linear', color='g')\n",
    "plt.xlabel('X')\n",
    "plt.ylabel('Y')\n",
    "plt.show()"
   ]
  },
  {
   "cell_type": "markdown",
   "metadata": {},
   "source": [
    "We can see that Perceptron is successfully trained to predict AND function. Also we can draw a single line (green) between two classes. Now let's try with OR function:"
   ]
  },
  {
   "cell_type": "code",
   "execution_count": 20,
   "metadata": {},
   "outputs": [
    {
     "name": "stdout",
     "output_type": "stream",
     "text": [
      "[INFO] input-data=[0 0], expected-value=0, predicted-value=0\n",
      "[INFO] input-data=[0 1], expected-value=1, predicted-value=1\n",
      "[INFO] input-data=[1 0], expected-value=1, predicted-value=1\n",
      "[INFO] input-data=[1 1], expected-value=1, predicted-value=1\n"
     ]
    }
   ],
   "source": [
    "# define OR dataset\n",
    "X = np.array([[0, 0], [0, 1], [1, 0], [1, 1]])\n",
    "y = np.array([[0], [1], [1], [1]])\n",
    "\n",
    "# instantiate perceptron object\n",
    "p = Perceptron(X.shape[1], learning_rate=0.1)\n",
    "\n",
    "# train the perceptron\n",
    "p.fit(X, y, epochs=20)\n",
    "\n",
    "# loop over input data\n",
    "for (x, target) in zip(X, y):\n",
    "    \n",
    "    # predict\n",
    "    pred = p.predict(np.atleast_2d(x))    \n",
    "    # print the results\n",
    "    print(\"[INFO] input-data={}, expected-value={}, predicted-value={}\".format(x, target[0], pred))"
   ]
  },
  {
   "cell_type": "code",
   "execution_count": 47,
   "metadata": {},
   "outputs": [
    {
     "data": {
      "image/png": "[encoded data removed]",
      "text/plain": [
       "<Figure size 432x288 with 1 Axes>"
      ]
     },
     "metadata": {
      "needs_background": "light"
     },
     "output_type": "display_data"
    }
   ],
   "source": [
    "plt.title(\"OR\")\n",
    "plt.plot([0, 1, 1], [1, 1, 0], 'bo', )\n",
    "plt.plot([0], [0], 'ro', )\n",
    "plt.plot([0, 0.9], [0.9, 0],  label='Linear', color='g')\n",
    "plt.xlabel('X')\n",
    "plt.ylabel('Y')\n",
    "plt.show()"
   ]
  },
  {
   "cell_type": "markdown",
   "metadata": {},
   "source": [
    "Perceptron is successfully trained to predict OR function as well. Again we can draw single line(green) which seprates two classes. Now let's try with XOR function:"
   ]
  },
  {
   "cell_type": "code",
   "execution_count": 22,
   "metadata": {},
   "outputs": [
    {
     "name": "stdout",
     "output_type": "stream",
     "text": [
      "[INFO] input-data=[0 0], target-value=0, predicted-value=1\n",
      "[INFO] input-data=[0 1], target-value=1, predicted-value=0\n",
      "[INFO] input-data=[1 0], target-value=1, predicted-value=0\n",
      "[INFO] input-data=[1 1], target-value=0, predicted-value=0\n"
     ]
    }
   ],
   "source": [
    "# define XOR dataset\n",
    "X = np.array([[0, 0], [0, 1], [1, 0], [1, 1]])\n",
    "y = np.array([[0], [1], [1], [0]])\n",
    "\n",
    "# loop over input data\n",
    "p = Perceptron(X.shape[1], learning_rate=0.1)\n",
    "\n",
    "# train the perceptron\n",
    "p.fit(X, y, epochs=200)\n",
    "\n",
    "# loop over input data\n",
    "for (x, target) in zip(X, y):\n",
    "\n",
    "    # predict\n",
    "    pred = p.predict(np.atleast_2d(x))\n",
    "    # print the results\n",
    "    print(\"[INFO] input-data={}, target-value={}, predicted-value={}\".format(x, target[0], pred))"
   ]
  },
  {
   "cell_type": "code",
   "execution_count": 60,
   "metadata": {},
   "outputs": [
    {
     "data": {
      "image/png": "[encoded data removed]",
      "text/plain": [
       "<Figure size 432x288 with 1 Axes>"
      ]
     },
     "metadata": {
      "needs_background": "light"
     },
     "output_type": "display_data"
    }
   ],
   "source": [
    "plt.title(\"XOR\")\n",
    "plt.plot([0, 1], [1, 0], 'bo', )\n",
    "plt.plot([0, 1], [0, 1], 'ro', )\n",
    "plt.annotate(\"?\", xy=(0.5, 0.5), fontsize=30, color='green')\n",
    "plt.xlabel('X')\n",
    "plt.ylabel('Y')\n",
    "plt.show()"
   ]
  },
  {
   "cell_type": "markdown",
   "metadata": {},
   "source": [
    "Here we can see that Perceptron is not able be trained to predict XOR gate. \n",
    "We can play with different learning rates or different\n",
    "weight initialization schemes or with different number of epochs, but Perceptron will never be able to correctly model the \n",
    "XOR function. \n",
    "\n",
    "![Image](course/assets/image/xor.png)\n",
    "\n",
    "\n",
    "So, why we can't solve XOR function using Perceptron algorithm ?\n",
    "\n",
    "XOR function is non linear problem, which can't be solved with single Perceptron, therefore in order to solve non linear problems we will need neural network with more than one layer and with nonlinear activation functions.\n",
    "\n",
    "So, let's introduce Multi Layer Perceptrons with backpropagation algorithm.\n",
    "\n",
    "\n",
    "### Multi Layer Perceptron - Backpropagation algorithm\t\t\n",
    "\n",
    "A Multi Layer Perceptron (MLP) has the same structure of a Single Layer Perceptron with one or more hidden layers. \n",
    "\n",
    "The learning algorithm(backpropagation) consists of two phases: \n",
    "\n",
    "* forward phase \n",
    "    where the activations are propagated from the input to the output layer\n",
    "* backward phase\n",
    "    where the error between the observed actual and the requested nominal value in the output layer is propagated backwards in order to modify the weights and bias values \t\t\n",
    " \t\t\n",
    "Forward propagation:\t\t\n",
    "Propagate inputs by adding all the weighted inputs and then computing outputs using sigmoid threshold.\n",
    "\n",
    "\n",
    "![Image](course/assets/image/mlp-forward-pass.png)\n",
    "\n",
    "\n",
    "Backward propagation:\t\t\n",
    "Propagates the errors backward by apportioning them to each unit according to the amount of this error the unit is responsible for.\n",
    "\n",
    "\n",
    "![Image](course/assets/image/mlp-backward-pass.png)\n",
    "\n",
    "\n",
    "Now let's implement simple Multi Layer Neural Network.\n",
    "\n"
   ]
  },
  {
   "cell_type": "code",
   "execution_count": 14,
   "metadata": {},
   "outputs": [
    {
     "ename": "SyntaxError",
     "evalue": "invalid syntax (<ipython-input-14-c32c931bc034>, line 35)",
     "output_type": "error",
     "traceback": [
      "\u001b[1;36m  File \u001b[1;32m\"<ipython-input-14-c32c931bc034>\"\u001b[1;36m, line \u001b[1;32m35\u001b[0m\n\u001b[1;33m    e=100):\u001b[0m\n\u001b[1;37m    ^\u001b[0m\n\u001b[1;31mSyntaxError\u001b[0m\u001b[1;31m:\u001b[0m invalid syntax\n"
     ]
    }
   ],
   "source": [
    "import numpy as np\n",
    "\n",
    "class NeuralNetwork:\n",
    "    def __init__(self, layers, learning_rate=0.1):\n",
    "        \n",
    "        self.W = []\n",
    "        self.layers = layers\n",
    "        self.learning_rate = learning_rate\n",
    "        self.history_loss = []\n",
    "\n",
    "        # initialize weights\n",
    "        # stop before we reach the last two layers\n",
    "        for i in np.arange(0, len(layers) - 2):\n",
    "            # randomly initialize a weight matrix connecting the\n",
    "            # number of nodes in each respective layer together,\n",
    "            # adding an extra node for the bias\n",
    "            w = np.random.randn(layers[i] + 1, layers[i + 1] + 1)\n",
    "            self.W.append(w / np.sqrt(layers[i]))\n",
    "\n",
    "        # the last two layers are a special case where the input\n",
    "        # connections need a bias term but the output does not\n",
    "        w = np.random.randn(layers[-2] + 1, layers[-1])\n",
    "        self.W.append(w / np.sqrt(layers[-2]))\n",
    "\n",
    "    # sigmoid activation function\n",
    "    def sigmoid(self, x):\n",
    "        return 1.0 / (1 + np.exp(-x))\n",
    "\n",
    "    # derivate of the sigmoid function\n",
    "    def sigmoid_deriv(self, x):\n",
    "        return x * (1 - x)\n",
    "\n",
    "    def fit(self, X, y, epochs=1000, displayUpdat\n",
    "            \n",
    "            e=100):\n",
    "        \n",
    "        # insert a column of 1's as the last entry in the feature matrix (bias)\n",
    "        X = np.c_[X, np.ones((X.shape[0]))]\n",
    "\n",
    "        # start training\n",
    "        for epoch in np.arange(0, epochs):\n",
    "            # loop over each individual data point \n",
    "            for (x, target) in zip(X, y):\n",
    "                self.fit_partial(x, target)\n",
    "\n",
    "            loss = self.calculate_loss(X, y)\n",
    "            self.history_loss.append(loss)\n",
    "\n",
    "                \n",
    "            # check to see if we should display a training update\n",
    "            if epoch == 0 or (epoch + 1) % displayUpdate == 0:\n",
    "                #loss = self.calculate_loss(X, y)\n",
    "                #self.history_loss.append(loss)\n",
    "                print(\"[INFO] epoch={}, loss={:.7f}\".format(epoch + 1, loss))\n",
    "\n",
    "    def fit_partial(self, x, y):\n",
    "        # construct our list of output activations for each layer\n",
    "        # as our data point flows through the network; the first\n",
    "        # activation is a special case -- it's just the input\n",
    "        # feature vector itself\n",
    "        A = [np.atleast_2d(x)]\n",
    "\n",
    "        # FEEDFORWARD:\n",
    "        # loop over the layers in the network\n",
    "        for layer in np.arange(0, len(self.W)):\n",
    "            # feedforward the activation at the current layer by\n",
    "            # taking the dot product between the activation and\n",
    "            # the weight matrix -- this is called the \"net input\"\n",
    "            # to the current layer\n",
    "            net = A[layer].dot(self.W[layer])\n",
    "\n",
    "            # computing the \"net output\" is simply applying our\n",
    "            # non-linear activation function to the net input\n",
    "            out = self.sigmoid(net)\n",
    "\n",
    "            # once we have the net output, add it to our list of\n",
    "            # activations\n",
    "            A.append(out)\n",
    "\n",
    "        # BACKPROPAGATION\n",
    "        # the first phase of backpropagation is to compute the\n",
    "        # difference between our *prediction* (the final output\n",
    "        # activation in the activations list) and the true target\n",
    "        # value\n",
    "        error = A[-1] - y\n",
    "\n",
    "        # from here, we need to apply the chain rule and build our\n",
    "        # list of deltas `D`; the first entry in the deltas is\n",
    "        # simply the error of the output layer times the derivative\n",
    "        # of our activation function for the output value\n",
    "        D = [error * self.sigmoid_deriv(A[-1])]\n",
    "\n",
    "        # once you understand the chain rule it becomes super easy\n",
    "        # to implement with a `for` loop -- simply loop over the\n",
    "        # layers in reverse order (ignoring the last two since we\n",
    "        # already have taken them into account)\n",
    "        for layer in np.arange(len(A) - 2, 0, -1):\n",
    "            # the delta for the current layer is equal to the delta\n",
    "            # of the *previous layer* dotted with the weight matrix\n",
    "            # of the current layer, followed by multiplying the delta\n",
    "            # by the derivative of the non-linear activation function\n",
    "            # for the activations of the current layer\n",
    "            delta = D[-1].dot(self.W[layer].T)\n",
    "            delta = delta * self.sigmoid_deriv(A[layer])\n",
    "            D.append(delta)\n",
    "\n",
    "        # since we looped over our layers in reverse order we need to\n",
    "        # reverse the deltas\n",
    "        D = D[::-1]\n",
    "\n",
    "        # WEIGHT UPDATE PHASE\n",
    "        # loop over the layers\n",
    "        for layer in np.arange(0, len(self.W)):\n",
    "            # update our weights by taking the dot product of the layer\n",
    "            # activations with their respective deltas, then multiplying\n",
    "            # this value by some small learning rate and adding to our\n",
    "            # weight matrix -- this is where the actual \"learning\" takes\n",
    "            # place\n",
    "            self.W[layer] += -self.learning_rate * A[layer].T.dot(D[layer])\n",
    "\n",
    "    def predict(self, X, addBias=True):\n",
    "        # initialize the output prediction as the input features -- this\n",
    "        # value will be (forward) propagated through the network to\n",
    "        # obtain the final prediction\n",
    "        p = np.atleast_2d(X)\n",
    "\n",
    "        # check to see if the bias column should be added\n",
    "        if addBias:\n",
    "            # insert a column of 1's as the last entry in the feature\n",
    "            # matrix (bias)\n",
    "            p = np.c_[p, np.ones((p.shape[0]))]\n",
    "\n",
    "        # loop over our layers in the network\n",
    "        for layer in np.arange(0, len(self.W)):\n",
    "            # computing the output prediction is as simple as taking\n",
    "            # the dot product between the current activation value `p`\n",
    "            # and the weight matrix associated with the current layer,\n",
    "            # then passing this value through a non-linear activation\n",
    "            # function\n",
    "            p = self.sigmoid(np.dot(p, self.W[layer]))\n",
    "\n",
    "        # return the predicted value\n",
    "        return p\n",
    "\n",
    "    def calculate_loss(self, X, targets):\n",
    "        # make predictions for the input data points then compute\n",
    "        # the loss\n",
    "        targets = np.atleast_2d(targets)\n",
    "        predictions = self.predict(X, addBias=False)\n",
    "        loss = 0.5 * np.sum((predictions - targets) ** 2)\n",
    "\n",
    "        # return the loss\n",
    "        return loss"
   ]
  },
  {
   "cell_type": "code",
   "execution_count": null,
   "metadata": {},
   "outputs": [],
   "source": []
  },
  {
   "cell_type": "code",
   "execution_count": null,
   "metadata": {},
   "outputs": [],
   "source": [
    "# prepare XOR training dataset\n",
    "\n",
    "X = np.array([[0, 0], [0, 1], [1, 0], [1, 1]])\n",
    "y = np.array([[0], [1], [1], [0]])\n",
    "\n",
    "# create neural network\n",
    "multi_layer_network = NeuralNetwork([2, 2, 1], learning_rate=0.5)\n",
    "# fir the network\n",
    "multi_layer_network.fit(X, y, epochs=2500)\n",
    "\n",
    "# plot the loss\n",
    "history_epochs = np.linspace(0, len(nn.history_loss), len(nn.history_loss))\n",
    "\n",
    "plt.grid(True)\n",
    "plt.xlabel('Epochs')\n",
    "plt.ylabel('Loss')\n",
    "plt.plot(history_epochs, nn.history_loss, label='Loss', color='r')\n",
    "plt.legend()\n",
    "plt.show()\n",
    "\n",
    "\n",
    "# predict\n",
    "print(\"prediction:\")\n",
    "for i in range(0, 4):\n",
    "    x = X[i]\n",
    "    prediction = multi_layer_network.predict(x)\n",
    "    step = 1 if prediction > 0.5 else 0\n",
    "    print(\"[INFO] data={}, expected={}, prediction={}, step={}\".format(x, y[i], prediction, step))\n",
    "        "
   ]
  },
  {
   "cell_type": "code",
   "execution_count": null,
   "metadata": {},
   "outputs": [],
   "source": [
    "# here we can see that if we define single layer network that network will not be able to predict xor function\n",
    "single_layer_network = NeuralNetwork([2, 1], learning_rate=0.5)\n",
    "single_layer_network.fit(X, y, epochs=2500)\n",
    "\n",
    "# predict\n",
    "print(\"prediction:\")\n",
    "for i in range(0, 4):\n",
    "    x = X[i]\n",
    "    prediction = single_layer_network.predict(x)\n",
    "    step = 1 if pred > 0.5 else 0\n",
    "    print(\"[INFO] data={}, expected={}, prediction={}, step={}\".format(x, y[i], prediction, step))\n"
   ]
  },
  {
   "cell_type": "code",
   "execution_count": null,
   "metadata": {},
   "outputs": [],
   "source": []
  },
  {
   "cell_type": "code",
   "execution_count": null,
   "metadata": {},
   "outputs": [],
   "source": [
    "from sklearn.preprocessing import LabelBinarizer\n",
    "from sklearn.model_selection import train_test_split\n",
    "from sklearn.metrics import classification_report\n",
    "from sklearn import datasets\n",
    "\n",
    "digits = datasets.load_digits()\n",
    "data = digits.data.astype(\"float\")\n",
    "data = (data - data.min()) / (data.max() - data.min())\n",
    "print(\"[INFO] samples: {}, dim: {}\".format(data.shape[0],data.shape[1]))\n",
    "\n",
    "(trainX, testX, trainY, testY) = train_test_split(data, digits.target, test_size=0.25)\n",
    "\n",
    "# convert the labels from integers to vectors\n",
    "trainY = LabelBinarizer().fit_transform(trainY)\n",
    "testY = LabelBinarizer().fit_transform(testY)\n",
    "\n",
    "print(\"[INFO] training network...\")\n",
    "nn = NeuralNetwork([trainX.shape[1], 32, 16, 10])\n",
    "print(\"[INFO] {}\".format(nn))\n",
    "nn.fit(trainX, trainY, epochs=2000)\n",
    "\n",
    "# plot the loss\n",
    "history_epochs = np.linspace(0, len(nn.history_loss), len(nn.history_loss))\n",
    "\n",
    "plt.grid(True)\n",
    "plt.xlabel('Epochs')\n",
    "plt.ylabel('Loss')\n",
    "plt.plot(history_epochs, nn.history_loss, label='Loss', color='r')\n",
    "plt.legend()\n",
    "plt.show()\n",
    "\n",
    "\n",
    "print(\"[INFO] evaluating network...\")\n",
    "predictions = nn.predict(testX)\n",
    "predictions = predictions.argmax(axis=1)\n",
    "print(classification_report(testY.argmax(axis=1), predictions))\n",
    "\n",
    "\n"
   ]
  },
  {
   "cell_type": "code",
   "execution_count": null,
   "metadata": {},
   "outputs": [],
   "source": []
  }
 ],
 "metadata": {
  "kernelspec": {
   "display_name": "Python 3",
   "language": "python",
   "name": "python3"
  },
  "language_info": {
   "codemirror_mode": {
    "name": "ipython",
    "version": 3
   },
   "file_extension": ".py",
   "mimetype": "text/x-python",
   "name": "python",
   "nbconvert_exporter": "python",
   "pygments_lexer": "ipython3",
   "version": "3.7.0"
  }
 },
 "nbformat": 4,
 "nbformat_minor": 2
}
